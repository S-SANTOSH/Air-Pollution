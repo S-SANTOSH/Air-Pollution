{
 "cells": [
  {
   "cell_type": "code",
   "execution_count": 1,
   "metadata": {},
   "outputs": [
    {
     "name": "stderr",
     "output_type": "stream",
     "text": [
      "Using TensorFlow backend.\n",
      "/Users/santoshsaxena/anaconda3/lib/python3.7/site-packages/tensorflow/python/framework/dtypes.py:526: FutureWarning: Passing (type, 1) or '1type' as a synonym of type is deprecated; in a future version of numpy, it will be understood as (type, (1,)) / '(1,)type'.\n",
      "  _np_qint8 = np.dtype([(\"qint8\", np.int8, 1)])\n",
      "/Users/santoshsaxena/anaconda3/lib/python3.7/site-packages/tensorflow/python/framework/dtypes.py:527: FutureWarning: Passing (type, 1) or '1type' as a synonym of type is deprecated; in a future version of numpy, it will be understood as (type, (1,)) / '(1,)type'.\n",
      "  _np_quint8 = np.dtype([(\"quint8\", np.uint8, 1)])\n",
      "/Users/santoshsaxena/anaconda3/lib/python3.7/site-packages/tensorflow/python/framework/dtypes.py:528: FutureWarning: Passing (type, 1) or '1type' as a synonym of type is deprecated; in a future version of numpy, it will be understood as (type, (1,)) / '(1,)type'.\n",
      "  _np_qint16 = np.dtype([(\"qint16\", np.int16, 1)])\n",
      "/Users/santoshsaxena/anaconda3/lib/python3.7/site-packages/tensorflow/python/framework/dtypes.py:529: FutureWarning: Passing (type, 1) or '1type' as a synonym of type is deprecated; in a future version of numpy, it will be understood as (type, (1,)) / '(1,)type'.\n",
      "  _np_quint16 = np.dtype([(\"quint16\", np.uint16, 1)])\n",
      "/Users/santoshsaxena/anaconda3/lib/python3.7/site-packages/tensorflow/python/framework/dtypes.py:530: FutureWarning: Passing (type, 1) or '1type' as a synonym of type is deprecated; in a future version of numpy, it will be understood as (type, (1,)) / '(1,)type'.\n",
      "  _np_qint32 = np.dtype([(\"qint32\", np.int32, 1)])\n",
      "/Users/santoshsaxena/anaconda3/lib/python3.7/site-packages/tensorflow/python/framework/dtypes.py:535: FutureWarning: Passing (type, 1) or '1type' as a synonym of type is deprecated; in a future version of numpy, it will be understood as (type, (1,)) / '(1,)type'.\n",
      "  np_resource = np.dtype([(\"resource\", np.ubyte, 1)])\n"
     ]
    }
   ],
   "source": [
    "import pandas as pd\n",
    "from keras.models import Sequential\n",
    "from keras.layers import Dense\n",
    "from keras.wrappers.scikit_learn import KerasRegressor\n",
    "from sklearn.model_selection import cross_val_score\n",
    "from sklearn.model_selection import KFold\n",
    "from sklearn.preprocessing import StandardScaler\n",
    "from sklearn.pipeline import Pipeline"
   ]
  },
  {
   "cell_type": "code",
   "execution_count": null,
   "metadata": {},
   "outputs": [],
   "source": []
  },
  {
   "cell_type": "code",
   "execution_count": 2,
   "metadata": {},
   "outputs": [],
   "source": [
    "data = pd.read_csv(\"Desktop/Air_Quality_Monitoring_Data.csv\")\n",
    "data_new = data.dropna()"
   ]
  },
  {
   "cell_type": "code",
   "execution_count": 3,
   "metadata": {},
   "outputs": [],
   "source": [
    "no2 = data_new.iloc[0:60000,3:4].values\n",
    "o3_1hrs = data_new.iloc[0:60000,4:5].values\n",
    "o3_4hrs = data_new.iloc[0:60000,5:6].values\n",
    "co = data_new.iloc[0:60000,6:7].values\n",
    "pm10 = data_new.iloc[0:60000,7:8].values\n",
    "pm2 = data_new.iloc[0:60000,8:9].values\n",
    "aqi_co = data_new.iloc[0:60000,9:10].values\n",
    "aqi_no2 = data_new.iloc[0:60000,10:11].values\n",
    "aqi_o3_1hrs = data_new.iloc[0:60000,11:12].values\n",
    "aqi_o3_4hrs = data_new.iloc[0:60000,12:13].values\n",
    "aqi_pm10 = data_new.iloc[0:60000, 13:14].values\n",
    "aqi_pm2 = data_new.iloc[0:60000, 14:15].values\n",
    "aqi_site = data_new.iloc[0:60000 , 15:16].values"
   ]
  },
  {
   "cell_type": "code",
   "execution_count": 4,
   "metadata": {},
   "outputs": [],
   "source": [
    "def baseline_model():\n",
    "    # create model\n",
    "    model = Sequential()\n",
    "    model.add(Dense(64, input_dim=1, kernel_initializer='normal', activation='relu'))\n",
    "    model.add(Dense(32, input_dim=1, kernel_initializer='normal', activation='relu'))\n",
    "    model.add(Dense(16, input_dim=1, kernel_initializer='normal', activation='relu'))\n",
    "    model.add(Dense(8, input_dim=1, kernel_initializer='normal', activation='relu'))\n",
    "    model.add(Dense(1, kernel_initializer='normal'))\n",
    "    # Compile model\n",
    "    model.compile(loss='mean_squared_error', optimizer='adam')\n",
    "    return model"
   ]
  },
  {
   "cell_type": "code",
   "execution_count": 36,
   "metadata": {},
   "outputs": [],
   "source": [
    "no2_model = baseline_model()"
   ]
  },
  {
   "cell_type": "code",
   "execution_count": 37,
   "metadata": {},
   "outputs": [
    {
     "name": "stdout",
     "output_type": "stream",
     "text": [
      "Epoch 1/10\n",
      "40000/40000 [==============================] - 6s 144us/step - loss: 41.8807\n",
      "Epoch 2/10\n",
      "40000/40000 [==============================] - 4s 106us/step - loss: 35.3269\n",
      "Epoch 3/10\n",
      "40000/40000 [==============================] - 4s 104us/step - loss: 3.4905\n",
      "Epoch 4/10\n",
      "40000/40000 [==============================] - 4s 103us/step - loss: 2.0059\n",
      "Epoch 5/10\n",
      "40000/40000 [==============================] - 4s 107us/step - loss: 1.9925\n",
      "Epoch 6/10\n",
      "40000/40000 [==============================] - 4s 107us/step - loss: 1.9869\n",
      "Epoch 7/10\n",
      "40000/40000 [==============================] - 4s 105us/step - loss: 1.9810\n",
      "Epoch 8/10\n",
      "40000/40000 [==============================] - 4s 110us/step - loss: 2.0046\n",
      "Epoch 9/10\n",
      "40000/40000 [==============================] - 4s 106us/step - loss: 1.9866\n",
      "Epoch 10/10\n",
      "40000/40000 [==============================] - 5s 113us/step - loss: 1.9904\n"
     ]
    },
    {
     "data": {
      "text/plain": [
       "<keras.callbacks.callbacks.History at 0x143475eb8>"
      ]
     },
     "execution_count": 37,
     "metadata": {},
     "output_type": "execute_result"
    }
   ],
   "source": [
    "no2_model.fit(no2[0:40000],aqi_no2[0:40000],epochs=  10)"
   ]
  },
  {
   "cell_type": "code",
   "execution_count": 38,
   "metadata": {},
   "outputs": [
    {
     "name": "stdout",
     "output_type": "stream",
     "text": [
      "Epoch 1/10\n",
      "40000/40000 [==============================] - 7s 185us/step - loss: 12.3999\n",
      "Epoch 2/10\n",
      "40000/40000 [==============================] - 4s 108us/step - loss: 0.0869\n",
      "Epoch 3/10\n",
      "40000/40000 [==============================] - 4s 107us/step - loss: 0.0843\n",
      "Epoch 4/10\n",
      "40000/40000 [==============================] - 4s 108us/step - loss: 0.0902\n",
      "Epoch 5/10\n",
      "40000/40000 [==============================] - 5s 115us/step - loss: 0.1265\n",
      "Epoch 6/10\n",
      "40000/40000 [==============================] - 4s 107us/step - loss: 0.0801\n",
      "Epoch 7/10\n",
      "40000/40000 [==============================] - 4s 110us/step - loss: 0.1045\n",
      "Epoch 8/10\n",
      "40000/40000 [==============================] - 5s 117us/step - loss: 0.1522\n",
      "Epoch 9/10\n",
      "40000/40000 [==============================] - 4s 110us/step - loss: 0.1093\n",
      "Epoch 10/10\n",
      "40000/40000 [==============================] - 4s 112us/step - loss: 0.0725\n"
     ]
    },
    {
     "data": {
      "text/plain": [
       "<keras.callbacks.callbacks.History at 0x140e2c438>"
      ]
     },
     "execution_count": 38,
     "metadata": {},
     "output_type": "execute_result"
    }
   ],
   "source": [
    "co_model = baseline_model()\n",
    "co_model.fit(co[0:40000], aqi_co[0:40000], epochs = 10)"
   ]
  },
  {
   "cell_type": "code",
   "execution_count": 20,
   "metadata": {},
   "outputs": [
    {
     "name": "stdout",
     "output_type": "stream",
     "text": [
      "Epoch 1/2\n",
      "40000/40000 [==============================] - 5s 132us/step - loss: 9695.5058\n",
      "Epoch 2/2\n",
      "40000/40000 [==============================] - 4s 105us/step - loss: 0.6312\n"
     ]
    },
    {
     "data": {
      "text/plain": [
       "<keras.callbacks.callbacks.History at 0x1421976d8>"
      ]
     },
     "execution_count": 20,
     "metadata": {},
     "output_type": "execute_result"
    }
   ],
   "source": [
    "pm2_model = baseline_model()\n",
    "pm2_model.fit(pm2[0:40000], aqi_pm2[0:40000] , epochs = 2)"
   ]
  },
  {
   "cell_type": "code",
   "execution_count": 19,
   "metadata": {},
   "outputs": [
    {
     "name": "stdout",
     "output_type": "stream",
     "text": [
      "Epoch 1/2\n",
      "40000/40000 [==============================] - 6s 151us/step - loss: 2117.1029\n",
      "Epoch 2/2\n",
      "40000/40000 [==============================] - 4s 100us/step - loss: 0.2759\n"
     ]
    },
    {
     "data": {
      "text/plain": [
       "<keras.callbacks.callbacks.History at 0x1417d5eb8>"
      ]
     },
     "execution_count": 19,
     "metadata": {},
     "output_type": "execute_result"
    }
   ],
   "source": [
    "pm10_model = baseline_model()\n",
    "pm10_model.fit(pm10[0:40000], aqi_pm10[0:40000], epochs = 2)"
   ]
  },
  {
   "cell_type": "code",
   "execution_count": 59,
   "metadata": {},
   "outputs": [
    {
     "name": "stdout",
     "output_type": "stream",
     "text": [
      "Epoch 1/10\n",
      "40000/40000 [==============================] - 6s 145us/step - loss: 172.3454\n",
      "Epoch 2/10\n",
      "40000/40000 [==============================] - 5s 114us/step - loss: 4.6217\n",
      "Epoch 3/10\n",
      "40000/40000 [==============================] - 4s 108us/step - loss: 4.6182\n",
      "Epoch 4/10\n",
      "40000/40000 [==============================] - 5s 113us/step - loss: 4.6424\n",
      "Epoch 5/10\n",
      "40000/40000 [==============================] - 4s 112us/step - loss: 4.6586\n",
      "Epoch 6/10\n",
      "40000/40000 [==============================] - 4s 108us/step - loss: 4.6425\n",
      "Epoch 7/10\n",
      "40000/40000 [==============================] - 4s 108us/step - loss: 4.6352\n",
      "Epoch 8/10\n",
      "40000/40000 [==============================] - 4s 109us/step - loss: 4.6454\n",
      "Epoch 9/10\n",
      "40000/40000 [==============================] - 5s 114us/step - loss: 4.6200\n",
      "Epoch 10/10\n",
      "40000/40000 [==============================] - 4s 110us/step - loss: 4.6352\n"
     ]
    },
    {
     "data": {
      "text/plain": [
       "<keras.callbacks.callbacks.History at 0x144d729b0>"
      ]
     },
     "execution_count": 59,
     "metadata": {},
     "output_type": "execute_result"
    }
   ],
   "source": [
    "o31hrs_model = baseline_model()\n",
    "o31hrs_model.fit(o3_1hrs[0:40000] , aqi_o3_1hrs[0:40000], epochs = 10) "
   ]
  },
  {
   "cell_type": "code",
   "execution_count": 10,
   "metadata": {},
   "outputs": [
    {
     "name": "stdout",
     "output_type": "stream",
     "text": [
      "Epoch 1/10\n",
      "40000/40000 [==============================] - 5s 134us/step - loss: 307.2348\n",
      "Epoch 2/10\n",
      "40000/40000 [==============================] - 4s 100us/step - loss: 61.1080\n",
      "Epoch 3/10\n",
      "40000/40000 [==============================] - 4s 96us/step - loss: 7.5187\n",
      "Epoch 4/10\n",
      "40000/40000 [==============================] - 4s 96us/step - loss: 7.5263\n",
      "Epoch 5/10\n",
      "40000/40000 [==============================] - 4s 96us/step - loss: 7.5480\n",
      "Epoch 6/10\n",
      "40000/40000 [==============================] - 4s 98us/step - loss: 7.5504\n",
      "Epoch 7/10\n",
      "40000/40000 [==============================] - 4s 101us/step - loss: 7.5457\n",
      "Epoch 8/10\n",
      "40000/40000 [==============================] - 4s 98us/step - loss: 7.5673\n",
      "Epoch 9/10\n",
      "40000/40000 [==============================] - 4s 97us/step - loss: 7.5504\n",
      "Epoch 10/10\n",
      "40000/40000 [==============================] - 4s 112us/step - loss: 7.5426\n"
     ]
    },
    {
     "data": {
      "text/plain": [
       "<keras.callbacks.callbacks.History at 0x13dee4630>"
      ]
     },
     "execution_count": 10,
     "metadata": {},
     "output_type": "execute_result"
    }
   ],
   "source": [
    "o3_model = baseline_model()\n",
    "o3_model.fit(o3_4hrs[0:40000], aqi_o3_4hrs[0:40000], epochs = 10)"
   ]
  },
  {
   "cell_type": "code",
   "execution_count": 39,
   "metadata": {},
   "outputs": [
    {
     "name": "stdout",
     "output_type": "stream",
     "text": [
      "20000/20000 [==============================] - 1s 48us/step\n"
     ]
    }
   ],
   "source": [
    "PM2 = pm2_model.evaluate(pm2[40000:60000],aqi_pm2[40000:60000])"
   ]
  },
  {
   "cell_type": "code",
   "execution_count": 40,
   "metadata": {},
   "outputs": [
    {
     "name": "stdout",
     "output_type": "stream",
     "text": [
      "20000/20000 [==============================] - 1s 45us/step\n"
     ]
    }
   ],
   "source": [
    "PM10 = pm10_model.evaluate(pm10[40000:60000],aqi_pm10[40000:60000])"
   ]
  },
  {
   "cell_type": "code",
   "execution_count": 41,
   "metadata": {},
   "outputs": [
    {
     "name": "stdout",
     "output_type": "stream",
     "text": [
      "20000/20000 [==============================] - 1s 41us/step\n"
     ]
    }
   ],
   "source": [
    "O3 = o3_model.evaluate(o3_4hrs[40000:60000],aqi_o3_4hrs[40000:60000])"
   ]
  },
  {
   "cell_type": "code",
   "execution_count": 42,
   "metadata": {},
   "outputs": [
    {
     "name": "stdout",
     "output_type": "stream",
     "text": [
      "20000/20000 [==============================] - 1s 67us/step\n"
     ]
    }
   ],
   "source": [
    "CO = co_model.evaluate(co[40000:60000],aqi_co[40000:60000])"
   ]
  },
  {
   "cell_type": "code",
   "execution_count": 43,
   "metadata": {},
   "outputs": [
    {
     "name": "stdout",
     "output_type": "stream",
     "text": [
      "20000/20000 [==============================] - 2s 82us/step\n"
     ]
    }
   ],
   "source": [
    "NO2 = no2_model.evaluate(no2[40000:60000], aqi_no2[40000:60000])"
   ]
  },
  {
   "cell_type": "code",
   "execution_count": 60,
   "metadata": {},
   "outputs": [
    {
     "name": "stdout",
     "output_type": "stream",
     "text": [
      "20000/20000 [==============================] - 2s 90us/step\n"
     ]
    }
   ],
   "source": [
    "O3_1hrs = o31hrs_model.evaluate(o3_1hrs[40000:60000], aqi_o3_1hrs[40000:60000])"
   ]
  },
  {
   "cell_type": "code",
   "execution_count": 61,
   "metadata": {},
   "outputs": [
    {
     "name": "stdout",
     "output_type": "stream",
     "text": [
      "1.5674225821495056\n",
      "0.5613231887817383\n",
      "0.06900717656612396\n",
      "3.5960229131698607\n",
      "1.5674225821495056\n",
      "0.5613231887817383\n",
      "7.201528022766113\n"
     ]
    }
   ],
   "source": [
    "print(PM2)\n",
    "print(PM10)\n",
    "print(CO)\n",
    "print(NO2)\n",
    "print(PM2)\n",
    "print(PM10)\n",
    "print(O3_1hrs)"
   ]
  },
  {
   "cell_type": "code",
   "execution_count": 62,
   "metadata": {},
   "outputs": [],
   "source": [
    "no2_pred = no2_model.predict(no2[40000:60000])\n",
    "co_pred = co_model.predict(co[40000:60000])\n",
    "pm2_pred = pm2_model.predict(pm2[40000:60000])\n",
    "pm10_pred = pm10_model.predict(pm10[40000:60000])\n",
    "o3_pred = o3_model.predict(o3_4hrs[40000:60000])\n",
    "o3_1hrs_pred = o31hrs_model.predict(o3_1hrs[40000:60000])"
   ]
  },
  {
   "cell_type": "code",
   "execution_count": 63,
   "metadata": {},
   "outputs": [
    {
     "name": "stdout",
     "output_type": "stream",
     "text": [
      "[[0.6332086]\n",
      " [0.6332086]\n",
      " [0.6332086]\n",
      " ...\n",
      " [0.6332086]\n",
      " [0.6332086]\n",
      " [7.355432 ]]\n",
      "[[ 0.]\n",
      " [ 5.]\n",
      " [15.]\n",
      " ...\n",
      " [ 0.]\n",
      " [ 0.]\n",
      " [ 5.]]\n"
     ]
    }
   ],
   "source": [
    "print(no2_pred)\n",
    "print(aqi_no2)"
   ]
  },
  {
   "cell_type": "code",
   "execution_count": 64,
   "metadata": {},
   "outputs": [
    {
     "name": "stdout",
     "output_type": "stream",
     "text": [
      "[[1.3153349 ]\n",
      " [1.6813256 ]\n",
      " [0.9522552 ]\n",
      " ...\n",
      " [0.9904859 ]\n",
      " [0.95225525]\n",
      " [1.315335  ]]\n",
      "[[0.]\n",
      " [0.]\n",
      " [0.]\n",
      " ...\n",
      " [1.]\n",
      " [1.]\n",
      " [1.]]\n"
     ]
    }
   ],
   "source": [
    "print(co_pred)\n",
    "print(aqi_co)"
   ]
  },
  {
   "cell_type": "code",
   "execution_count": 65,
   "metadata": {},
   "outputs": [
    {
     "name": "stdout",
     "output_type": "stream",
     "text": [
      "[[27.865477 ]\n",
      " [15.865658 ]\n",
      " [19.865597 ]\n",
      " ...\n",
      " [11.865718 ]\n",
      " [23.865538 ]\n",
      " [ 3.8658392]]\n",
      "[[14.]\n",
      " [25.]\n",
      " [14.]\n",
      " ...\n",
      " [10.]\n",
      " [24.]\n",
      " [ 2.]]\n"
     ]
    }
   ],
   "source": [
    "print(pm2_pred)\n",
    "print(aqi_pm2)"
   ]
  },
  {
   "cell_type": "code",
   "execution_count": 66,
   "metadata": {},
   "outputs": [
    {
     "name": "stdout",
     "output_type": "stream",
     "text": [
      "[[19.914616 ]\n",
      " [ 9.910512 ]\n",
      " [19.914616 ]\n",
      " ...\n",
      " [ 5.908871 ]\n",
      " [19.914614 ]\n",
      " [ 3.9080513]]\n",
      "[[12.]\n",
      " [16.]\n",
      " [13.]\n",
      " ...\n",
      " [ 7.]\n",
      " [20.]\n",
      " [ 5.]]\n"
     ]
    }
   ],
   "source": [
    "print(pm10_pred)\n",
    "print(aqi_pm10)"
   ]
  },
  {
   "cell_type": "code",
   "execution_count": 67,
   "metadata": {},
   "outputs": [
    {
     "name": "stdout",
     "output_type": "stream",
     "text": [
      "[[24.975185]\n",
      " [24.975185]\n",
      " [37.21577 ]\n",
      " ...\n",
      " [24.975185]\n",
      " [12.734603]\n",
      " [24.975185]]\n",
      "[[34.]\n",
      " [32.]\n",
      " [19.]\n",
      " ...\n",
      " [22.]\n",
      " [14.]\n",
      " [26.]]\n"
     ]
    }
   ],
   "source": [
    "print(o3_pred)\n",
    "print(aqi_o3_4hrs)"
   ]
  },
  {
   "cell_type": "code",
   "execution_count": 68,
   "metadata": {},
   "outputs": [
    {
     "name": "stdout",
     "output_type": "stream",
     "text": [
      "[[24.]\n",
      " [20.]\n",
      " [ 2.]\n",
      " ...\n",
      " [18.]\n",
      " [12.]\n",
      " [21.]]\n",
      "[[18.70558 ]\n",
      " [18.70558 ]\n",
      " [18.70558 ]\n",
      " ...\n",
      " [18.70558 ]\n",
      " [ 9.132311]\n",
      " [18.70558 ]]\n"
     ]
    }
   ],
   "source": [
    "print(aqi_o3_1hrs)\n",
    "print(o3_1hrs_pred)"
   ]
  },
  {
   "cell_type": "code",
   "execution_count": null,
   "metadata": {},
   "outputs": [],
   "source": []
  },
  {
   "cell_type": "code",
   "execution_count": null,
   "metadata": {},
   "outputs": [],
   "source": []
  }
 ],
 "metadata": {
  "kernelspec": {
   "display_name": "Python 3",
   "language": "python",
   "name": "python3"
  },
  "language_info": {
   "codemirror_mode": {
    "name": "ipython",
    "version": 3
   },
   "file_extension": ".py",
   "mimetype": "text/x-python",
   "name": "python",
   "nbconvert_exporter": "python",
   "pygments_lexer": "ipython3",
   "version": "3.7.1"
  }
 },
 "nbformat": 4,
 "nbformat_minor": 2
}
